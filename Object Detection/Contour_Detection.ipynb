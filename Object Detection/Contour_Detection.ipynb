{
  "nbformat": 4,
  "nbformat_minor": 0,
  "metadata": {
    "colab": {
      "name": "Contour-Detection.ipynb",
      "provenance": []
    },
    "kernelspec": {
      "name": "python3",
      "display_name": "Python 3"
    }
  },
  "cells": [
    {
      "cell_type": "code",
      "metadata": {
        "id": "A8zOzaiEIxwy",
        "colab_type": "code",
        "colab": {}
      },
      "source": [
        "import cv2\n",
        "import numpy as np\n",
        "import matplotlib.pyplot as plt"
      ],
      "execution_count": 0,
      "outputs": []
    },
    {
      "cell_type": "code",
      "metadata": {
        "id": "cpGXtEBirGc-",
        "colab_type": "code",
        "colab": {
          "base_uri": "https://localhost:8080/",
          "height": 271
        },
        "outputId": "cf530758-de23-4238-da35-2f21fc3d028a"
      },
      "source": [
        "img = cv2.imread('/content/internal_external.png', 0)\n",
        "plt.imshow(img, cmap='gray')"
      ],
      "execution_count": 19,
      "outputs": [
        {
          "output_type": "execute_result",
          "data": {
            "text/plain": [
              "<matplotlib.image.AxesImage at 0x7ffb88c39898>"
            ]
          },
          "metadata": {
            "tags": []
          },
          "execution_count": 19
        },
        {
          "output_type": "display_data",
          "data": {
            "image/png": "[encoded data removed]",
            "text/plain": [
              "<Figure size 432x288 with 1 Axes>"
            ]
          },
          "metadata": {
            "tags": [],
            "needs_background": "light"
          }
        }
      ]
    },
    {
      "cell_type": "code",
      "metadata": {
        "id": "y0r_8Ll5r4-t",
        "colab_type": "code",
        "colab": {}
      },
      "source": [
        "contours, hierarchy = cv2.findContours(img, cv2.RETR_CCOMP, cv2.CHAIN_APPROX_SIMPLE)"
      ],
      "execution_count": 0,
      "outputs": []
    },
    {
      "cell_type": "code",
      "metadata": {
        "id": "fUHtii3Ruy3x",
        "colab_type": "code",
        "colab": {
          "base_uri": "https://localhost:8080/",
          "height": 34
        },
        "outputId": "87710e1f-a80e-4aec-d474-468a0243f36f"
      },
      "source": [
        "type(contours)"
      ],
      "execution_count": 23,
      "outputs": [
        {
          "output_type": "execute_result",
          "data": {
            "text/plain": [
              "list"
            ]
          },
          "metadata": {
            "tags": []
          },
          "execution_count": 23
        }
      ]
    },
    {
      "cell_type": "code",
      "metadata": {
        "id": "PBBSpJuuu5UT",
        "colab_type": "code",
        "colab": {
          "base_uri": "https://localhost:8080/",
          "height": 34
        },
        "outputId": "c0623106-eaa2-4dfb-b175-bfd3e8a215cd"
      },
      "source": [
        "type(hierarchy)"
      ],
      "execution_count": 24,
      "outputs": [
        {
          "output_type": "execute_result",
          "data": {
            "text/plain": [
              "numpy.ndarray"
            ]
          },
          "metadata": {
            "tags": []
          },
          "execution_count": 24
        }
      ]
    },
    {
      "cell_type": "code",
      "metadata": {
        "id": "FmMdVfv3zVlM",
        "colab_type": "code",
        "colab": {
          "base_uri": "https://localhost:8080/",
          "height": 399
        },
        "outputId": "6602ae2d-f705-4634-80d0-c858db743593"
      },
      "source": [
        "hierarchy"
      ],
      "execution_count": 30,
      "outputs": [
        {
          "output_type": "execute_result",
          "data": {
            "text/plain": [
              "array([[[ 4, -1,  1, -1],\n",
              "        [ 2, -1, -1,  0],\n",
              "        [ 3,  1, -1,  0],\n",
              "        [-1,  2, -1,  0],\n",
              "        [21,  0,  5, -1],\n",
              "        [ 6, -1, -1,  4],\n",
              "        [ 7,  5, -1,  4],\n",
              "        [ 8,  6, -1,  4],\n",
              "        [ 9,  7, -1,  4],\n",
              "        [10,  8, -1,  4],\n",
              "        [11,  9, -1,  4],\n",
              "        [12, 10, -1,  4],\n",
              "        [13, 11, -1,  4],\n",
              "        [14, 12, -1,  4],\n",
              "        [15, 13, -1,  4],\n",
              "        [16, 14, -1,  4],\n",
              "        [17, 15, -1,  4],\n",
              "        [18, 16, -1,  4],\n",
              "        [19, 17, -1,  4],\n",
              "        [20, 18, -1,  4],\n",
              "        [-1, 19, -1,  4],\n",
              "        [-1,  4, -1, -1]]], dtype=int32)"
            ]
          },
          "metadata": {
            "tags": []
          },
          "execution_count": 30
        }
      ]
    },
    {
      "cell_type": "code",
      "metadata": {
        "id": "wQV-F4m9u7ju",
        "colab_type": "code",
        "colab": {}
      },
      "source": [
        "external_contours = np.zeros(img.shape)"
      ],
      "execution_count": 0,
      "outputs": []
    },
    {
      "cell_type": "code",
      "metadata": {
        "id": "x3mKFeKWvD_M",
        "colab_type": "code",
        "colab": {}
      },
      "source": [
        "for i in range(len(contours)):\n",
        "  if hierarchy[0][i][3] == -1:\n",
        "    cv2.drawContours(external_contours, contours, i, 255, -1)"
      ],
      "execution_count": 0,
      "outputs": []
    },
    {
      "cell_type": "code",
      "metadata": {
        "id": "KgvT8Zt1vqLS",
        "colab_type": "code",
        "colab": {
          "base_uri": "https://localhost:8080/",
          "height": 271
        },
        "outputId": "320a3c6c-defc-49d3-dbff-1fd85ee0d3b8"
      },
      "source": [
        "plt.imshow(external_contours, cmap='gray')"
      ],
      "execution_count": 27,
      "outputs": [
        {
          "output_type": "execute_result",
          "data": {
            "text/plain": [
              "<matplotlib.image.AxesImage at 0x7ffb87f5fef0>"
            ]
          },
          "metadata": {
            "tags": []
          },
          "execution_count": 27
        },
        {
          "output_type": "display_data",
          "data": {
            "image/png": "[encoded data removed]",
            "text/plain": [
              "<Figure size 432x288 with 1 Axes>"
            ]
          },
          "metadata": {
            "tags": [],
            "needs_background": "light"
          }
        }
      ]
    },
    {
      "cell_type": "code",
      "metadata": {
        "id": "PwVzyx-9vy8X",
        "colab_type": "code",
        "colab": {
          "base_uri": "https://localhost:8080/",
          "height": 271
        },
        "outputId": "8bf252de-f93c-484f-c477-59b4e0dcbc8f"
      },
      "source": [
        "internal_contours = np.zeros(img.shape)\n",
        "\n",
        "for i in range(len(contours)):\n",
        "  if hierarchy[0][i][3] != -1:\n",
        "    cv2.drawContours(internal_contours, contours, i, 255, -1)\n",
        "\n",
        "plt.imshow(internal_contours, cmap='gray')"
      ],
      "execution_count": 29,
      "outputs": [
        {
          "output_type": "execute_result",
          "data": {
            "text/plain": [
              "<matplotlib.image.AxesImage at 0x7ffb87ed06a0>"
            ]
          },
          "metadata": {
            "tags": []
          },
          "execution_count": 29
        },
        {
          "output_type": "display_data",
          "data": {
            "image/png": "[encoded data removed]",
            "text/plain": [
              "<Figure size 432x288 with 1 Axes>"
            ]
          },
          "metadata": {
            "tags": [],
            "needs_background": "light"
          }
        }
      ]
    },
    {
      "cell_type": "code",
      "metadata": {
        "id": "IVkHYorhzDcE",
        "colab_type": "code",
        "colab": {}
      },
      "source": [
        ""
      ],
      "execution_count": 0,
      "outputs": []
    }
  ]
}